{
  "nbformat": 4,
  "nbformat_minor": 0,
  "metadata": {
    "colab": {
      "name": "Copy of Untitled3.ipynb",
      "provenance": [],
      "authorship_tag": "ABX9TyMf9KaWHD8PMTofPMsv4QoO",
      "include_colab_link": true
    },
    "kernelspec": {
      "name": "python3",
      "display_name": "Python 3"
    },
    "language_info": {
      "name": "python"
    },
    "accelerator": "GPU"
  },
  "cells": [
    {
      "cell_type": "markdown",
      "metadata": {
        "id": "view-in-github",
        "colab_type": "text"
      },
      "source": [
        "<a href=\"https://colab.research.google.com/github/manikmanik518/bbb/blob/main/Copy_of_Untitled3.ipynb\" target=\"_parent\"><img src=\"https://colab.research.google.com/assets/colab-badge.svg\" alt=\"Open In Colab\"/></a>"
      ]
    },
    {
      "cell_type": "code",
      "metadata": {
        "id": "u6uGWZDnXALr"
      },
      "source": [
        "# Before you run this notepad, create a directory called \"hashcat\", with a subdirectory \"hashes\" in the root of your Google Drive\n",
        "# and store a hashfile named \"hash\"\n",
        "\n",
        "# mount Google Drive\n",
        "from google.colab import drive\n",
        "drive.mount('/content/drive/', force_remount=True)\n",
        "\n",
        "# create directories\n",
        "!mkdir -p /root/rules /root/wordlists\n",
        "\n",
        "!ls /content/drive/My\\ Drive/hashcat/\n",
        "!ln -s /content/drive/My\\ Drive/hashcat /root/hashcat\n",
        "\n",
        "# get rules list \n",
        "!wget -P /root/rules \"https://raw.githubusercontent.com/stealthsploit/Optimised-hashcat-Rule/master/OneRuleToRuleThemAll.rule\"\n",
        "\n",
        "# clone the SecLists repository\n",
        "!git clone https://github.com/danielmiessler/SecLists /root/wordlists/SecLists"
      ],
      "execution_count": null,
      "outputs": []
    },
    {
      "cell_type": "code",
      "metadata": {
        "id": "GPJ9fmoB6PWM"
      },
      "source": [
        "#@title Select Blender Version (used for rendering) then execute the cell{ display-mode: \"form\" }\n",
        "Blender_Version = 'Blender 2.79b' #@param [\"Blender 2.79b\", \"Blender 2.80\", \"Blender 2.81\", \"Blender 2.82a\", \"Blender 2.83.0\", \"Blender 2.83.3\", \"Blender 2.90alpha (expiremental)\", \"Blender 2.90\"]\n",
        "\n",
        "def path_leaf(path):\n",
        "  import ntpath\n",
        "  head, tail = ntpath.split(path)\n",
        "  return tail or ntpath.basename(head)\n",
        "\n",
        "dl_link = {\n",
        "    \"Blender 2.79b\": \"https://download.blender.org/release/Blender2.79/blender-2.79b-linux-glibc219-x86_64.tar.bz2\",\n",
        "    \"Blender 2.80\": \"https://download.blender.org/release/Blender2.80/blender-2.80-linux-glibc217-x86_64.tar.bz2\",\n",
        "    \"Blender 2.81\": \"https://download.blender.org/release/Blender2.81/blender-2.81-linux-glibc217-x86_64.tar.bz2\",\n",
        "    \"Blender 2.82a\": \"https://download.blender.org/release/Blender2.82/blender-2.82a-linux64.tar.xz\",\n",
        "    \"Blender 2.83.0\": \"https://download.blender.org/release/Blender2.83/blender-2.83.0-linux64.tar.xz\",\n",
        "    \"Blender 2.83.3\": \"https://download.blender.org/release/Blender2.83/blender-2.83.3-linux64.tar.xz\",\n",
        "    \"Blender 2.90alpha (expiremental)\": \"https://blender.community/5edccfe69c122126f183e2ad/download/5ef635439c12214ca244be6b\",\n",
        "    \"Blender 2.90\" : \"https://download.blender.org/release/Blender2.90/blender-2.90.0-linux64.tar.xz\"\n",
        "}\n",
        "\n",
        "\n",
        "dl = dl_link[Blender_Version]\n",
        "filename = path_leaf(dl)\n",
        "\n",
        "if (Blender_Version == \"Blender 2.90alpha (expiremental)\"):\n",
        "  !wget $dl\n",
        "  !sudo apt-get install p7zip-full\n",
        "  !7z x $filename\n",
        "  !mv blender_290bM_e935447a5370-20200625-1857 blender\n",
        "\n",
        "\n",
        "\n",
        "else:\n",
        "  !wget -nc $dl\n",
        "  !mkdir ./blender && tar xf $filename -C ./blender --strip-components 1\n",
        "\n",
        "\n",
        "\n",
        "!apt install libboost-all-dev\n",
        "!apt install libgl1-mesa-dev\n",
        "!apt install libglu1-mesa libsm-dev\n",
        "\n",
        "\n",
        "data = \"import re\\n\"+\\\n",
        "    \"import bpy\\n\"+\\\n",
        "    \"scene = bpy.context.scene\\n\"+\\\n",
        "    \"scene.cycles.device = 'GPU'\\n\"+\\\n",
        "    \"prefs = bpy.context.preferences\\n\"+\\\n",
        "    \"prefs.addons['cycles'].preferences.get_devices()\\n\"+\\\n",
        "    \"cprefs = prefs.addons['cycles'].preferences\\n\"+\\\n",
        "    \"print(cprefs)\\n\"+\\\n",
        "    \"# Attempt to set GPU device types if available\\n\"+\\\n",
        "    \"for compute_device_type in ('CUDA', 'OPENCL', 'NONE'):\\n\"+\\\n",
        "    \"    try:\\n\"+\\\n",
        "    \"        cprefs.compute_device_type = compute_device_type\\n\"+\\\n",
        "    \"        print('Device found',compute_device_type)\\n\"+\\\n",
        "    \"        break\\n\"+\\\n",
        "    \"    except TypeError:\\n\"+\\\n",
        "    \"        pass\\n\"+\\\n",
        "    \"# Enable all CPU and GPU devices\\n\"+\\\n",
        "    \"for device in cprefs.devices:\\n\"+\\\n",
        "    \"    if not re.match('intel', device.name, re.I):\\n\"+\\\n",
        "    \"        print('Activating',device)\\n\"+\\\n",
        "    \"        device.use = True\\n\"\n",
        "with open('setgpu.py', 'w') as f:\n",
        "    f.write(data)"
      ],
      "execution_count": null,
      "outputs": []
    },
    {
      "cell_type": "code",
      "metadata": {
        "id": "VFVx8omJCGBN"
      },
      "source": [
        "!sudo ./blender/blender -P setgpu.py -b '/gdrive/My Drive/Project X/ProjectFile.blend' -o '/gdrive/My Drive/Project X/V.png' -s 1001 -e 1002 -a"
      ],
      "execution_count": null,
      "outputs": []
    }
  ]
}